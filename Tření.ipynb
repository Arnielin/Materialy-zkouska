{
 "cells": [
  {
   "cell_type": "markdown",
   "id": "15a94d3b-3958-432b-b1e3-bfa9d7cb731a",
   "metadata": {},
   "source": [
    "# Tření\n",
    "Smykové tření - působí proti pohybu tělesa. Když se nepohybuje, tak je větší, než když se začne pohybovat. Dokud síla nepřesáhne kritickou hodnotu, tak se nepohybuje.\n",
    "Rozlišujeme koeficient statického tření $\\mu_{s}$ a koeficient kinematického tření $\\mu_{k}$. Když přesáhneme kritickou hodnotu, tak přecházíme do kinematického režimu.\n",
    "Valivé tření - ani na fykosu se jím nezabýváme."
   ]
  },
  {
   "cell_type": "code",
   "execution_count": 2,
   "id": "91dcf9e4-d8c1-47a3-bbaa-ff64977821cf",
   "metadata": {
    "tags": []
   },
   "outputs": [],
   "source": [
    "# Simulace\n",
    "import numpy as np\n",
    "import matplotlib.pyplot as plt\n",
    "from matplotlib.patches import Polygon\n",
    "def treni(F_N,mu):\n",
    "    return(F_N*mu)\n",
    "\n",
    "def hlavni_cast(h0,x0,g,mu,v0,alpha,tmax,t_sample=1000):\n",
    "    naklonena_draha = h0/np.sin(alpha)\n",
    "    t_list = np.linspace(0,tmax,t_sample)\n",
    "    v_list = np.zeros((t_sample,2))\n",
    "    poloha = np.zeros((t_sample,2))\n",
    "    g = np.array([0,-9.81])\n",
    "    poloha[0] = np.array([0,h0]) \n",
    "    v_list[0] = np.array([v0*np.cos(alpha),v0*np.sin(alpha)])\n",
    "    \n",
    "    for index in range(t_sample-1):\n",
    "        \n",
    "        if poloha[index] <= naklonena_draha:\n",
    "            poloha[index+1] = v_list[index]*t_list[index] +poloha[index]\n",
    "            v_list[index+1] = v_list[index] + np.cos"
   ]
  },
  {
   "cell_type": "code",
   "execution_count": 4,
   "id": "1232533b-1dd9-4b32-81e2-09b9435c5da4",
   "metadata": {
    "tags": []
   },
   "outputs": [
    {
     "data": {
      "text/plain": [
       "array([ 0.        , -5.15340871])"
      ]
     },
     "execution_count": 4,
     "metadata": {},
     "output_type": "execute_result"
    }
   ],
   "source": [
    "g = np.array([0,-9.81])\n",
    "np.cos(45)*g"
   ]
  },
  {
   "cell_type": "code",
   "execution_count": null,
   "id": "6cfbaee5-d832-4fd3-8db6-1d17a9f00d12",
   "metadata": {},
   "outputs": [],
   "source": []
  }
 ],
 "metadata": {
  "kernelspec": {
   "display_name": "Python 3 (ipykernel)",
   "language": "python",
   "name": "python3"
  },
  "language_info": {
   "codemirror_mode": {
    "name": "ipython",
    "version": 3
   },
   "file_extension": ".py",
   "mimetype": "text/x-python",
   "name": "python",
   "nbconvert_exporter": "python",
   "pygments_lexer": "ipython3",
   "version": "3.11.4"
  }
 },
 "nbformat": 4,
 "nbformat_minor": 5
}
