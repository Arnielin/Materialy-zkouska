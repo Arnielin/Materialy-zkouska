{
 "cells": [
  {
   "cell_type": "markdown",
   "id": "3d148417-deb6-4fc1-96a3-14f61767bfb1",
   "metadata": {},
   "source": [
    "## Vlnová funkce\n",
    "Odvození vlnové funkce na příkladu zvuku je následující. Když se plyn pohybuje, tak se mění jeho hustota a s ní i tlak. Máme tedy jistou funkci:\n",
    "$$\n",
    "p = f(\\rho)\n",
    "$$\n",
    "Víme, že dodatečný tlak, který způsobuje pro nás slyšitelný vzduch je ve srovnání s rovnovážným tlakem velmi malý. Vztah mezi tlakem a hustotou tedy je:\n",
    "$$\n",
    "p = p_{0} + p_{e}, \\rho = \\rho_{0} + \\rho_{e}\n",
    "$$\n",
    "Neboť každému tlaku přísluší nějaká hustota"
   ]
  }
 ],
 "metadata": {
  "kernelspec": {
   "display_name": "Python 3 (ipykernel)",
   "language": "python",
   "name": "python3"
  },
  "language_info": {
   "codemirror_mode": {
    "name": "ipython",
    "version": 3
   },
   "file_extension": ".py",
   "mimetype": "text/x-python",
   "name": "python",
   "nbconvert_exporter": "python",
   "pygments_lexer": "ipython3",
   "version": "3.11.4"
  }
 },
 "nbformat": 4,
 "nbformat_minor": 5
}
